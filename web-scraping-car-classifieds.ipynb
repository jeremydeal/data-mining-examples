{
 "cells": [
  {
   "cell_type": "markdown",
   "metadata": {},
   "source": [
    "<h1>Scraping KSL Classifieds for car data</h1>\n",
    "\n",
    "We'll start by importing <a href=\"http://docs.python-requests.org/en/latest/\">requests</a>, which allows us to make HTTP requests, and <a href=\"https://www.crummy.com/software/BeautifulSoup/bs4/doc/\">BeautifulSoup</a>, which is an HTML parser. We'll grab the HTML from a page of the KSL listings for the Toyota Camry. The variable <b>soup</b> is a parsed object representing the entire web page. Below, we create <b>car_divs</b>, which is a list of parsed objects, each representing one car ad. We can search within each of these smaller soups to grab certain attributes from each ad."
   ]
  },
  {
   "cell_type": "code",
   "execution_count": 98,
   "metadata": {
    "collapsed": false
   },
   "outputs": [
    {
     "data": {
      "text/plain": [
       "[{'location-and-miles': '31,885 Miles | Murray, UT | document.write(ts_to_age_min(1460445557));',\n",
       "  'price': '$14,567',\n",
       "  'title': '2012 Toyota Camry SE'},\n",
       " {'location-and-miles': '279,594 Miles | Salt Lake City, UT | document.write(ts_to_age_min(1460444597));',\n",
       "  'price': '$4,000',\n",
       "  'title': '2005 Toyota Camry LE'},\n",
       " {'location-and-miles': '42,998 Miles | West Valley City, UT | document.write(ts_to_age_min(1460443894));',\n",
       "  'price': '$16,358',\n",
       "  'title': '2014 Toyota Camry SE'},\n",
       " {'location-and-miles': '78,560 Miles | Orem, UT | document.write(ts_to_age_min(1460443154));',\n",
       "  'price': '$12,689',\n",
       "  'title': '2012 Toyota Camry LE'},\n",
       " {'location-and-miles': '62,581 Miles | Ogden, UT | document.write(ts_to_age_min(1460441762));',\n",
       "  'price': '$16,900',\n",
       "  'title': '2014 Toyota Camry SE'}]"
      ]
     },
     "execution_count": 98,
     "metadata": {},
     "output_type": "execute_result"
    }
   ],
   "source": [
    "import requests\n",
    "from bs4 import BeautifulSoup\n",
    "\n",
    "url = r\"http://www.ksl.com/auto/search/index?keyword=&make%5B%5D=Toyota&model%5B%5D=Camry&yearFrom=&yearTo=&mileageFrom=&mileageTo=&priceFrom=&priceTo=&zip=&miles=25&newUsed%5B%5D=All&page=0&sellerType=&postedTime=&titleType=&body=&transmission=&cylinders=&liters=&fuel=&drive=&numberDoors=&exteriorCondition=&interiorCondition=&cx_navSource=hp_search&search.x=21&search.y=15&search=Search+raquo%3B\"\n",
    "cars_list = []\n",
    "html = requests.get(url).text\n",
    "soup = BeautifulSoup(html, 'html5lib')\n",
    "\n",
    "car_divs = soup.find_all('div', {'class': 'srp-listing-body-right'})\n",
    "for car in car_divs:\n",
    "    cars_list.append(\n",
    "        {\n",
    "            'title': car.find('div', {'class': 'srp-listing-title'}).find('a').text.strip(),\n",
    "            'price': car.find('div', {'class': 'srp-listing-price'}).text.strip(),\n",
    "            'location-and-miles': car.find('div', {'class': 'srp-listing-city'}).text.strip()\n",
    "        }\n",
    "    )\n",
    "    \n",
    "cars_list[:5]"
   ]
  },
  {
   "cell_type": "markdown",
   "metadata": {},
   "source": [
    "<h1>Cleaning the Data</h1>\n",
    "\n",
    "As you can see, the data in <b>cars_list</b> is pretty dirty. The prices are string values with dollar signs and commas and some extra information. City, state, and mileage are combined in one attribute. The 'title' attribute could also probably be broken into year, model, and make.\n",
    "\n",
    "We'll use the <a href=\"http://pandas.pydata.org/pandas-docs/version/0.18.0/\">pandas</a> library to clean our data. First, let's load our data into a DataFrame."
   ]
  },
  {
   "cell_type": "code",
   "execution_count": 99,
   "metadata": {
    "collapsed": false
   },
   "outputs": [
    {
     "data": {
      "text/html": [
       "<div>\n",
       "<table border=\"1\" class=\"dataframe\">\n",
       "  <thead>\n",
       "    <tr style=\"text-align: right;\">\n",
       "      <th></th>\n",
       "      <th>location-and-miles</th>\n",
       "      <th>price</th>\n",
       "      <th>title</th>\n",
       "    </tr>\n",
       "  </thead>\n",
       "  <tbody>\n",
       "    <tr>\n",
       "      <th>0</th>\n",
       "      <td>31,885 Miles | Murray, UT | document.write(ts_...</td>\n",
       "      <td>$14,567</td>\n",
       "      <td>2012 Toyota Camry SE</td>\n",
       "    </tr>\n",
       "    <tr>\n",
       "      <th>1</th>\n",
       "      <td>279,594 Miles | Salt Lake City, UT | document....</td>\n",
       "      <td>$4,000</td>\n",
       "      <td>2005 Toyota Camry LE</td>\n",
       "    </tr>\n",
       "    <tr>\n",
       "      <th>2</th>\n",
       "      <td>42,998 Miles | West Valley City, UT | document...</td>\n",
       "      <td>$16,358</td>\n",
       "      <td>2014 Toyota Camry SE</td>\n",
       "    </tr>\n",
       "    <tr>\n",
       "      <th>3</th>\n",
       "      <td>78,560 Miles | Orem, UT | document.write(ts_to...</td>\n",
       "      <td>$12,689</td>\n",
       "      <td>2012 Toyota Camry LE</td>\n",
       "    </tr>\n",
       "    <tr>\n",
       "      <th>4</th>\n",
       "      <td>62,581 Miles | Ogden, UT | document.write(ts_t...</td>\n",
       "      <td>$16,900</td>\n",
       "      <td>2014 Toyota Camry SE</td>\n",
       "    </tr>\n",
       "  </tbody>\n",
       "</table>\n",
       "</div>"
      ],
      "text/plain": [
       "                                  location-and-miles    price  \\\n",
       "0  31,885 Miles | Murray, UT | document.write(ts_...  $14,567   \n",
       "1  279,594 Miles | Salt Lake City, UT | document....   $4,000   \n",
       "2  42,998 Miles | West Valley City, UT | document...  $16,358   \n",
       "3  78,560 Miles | Orem, UT | document.write(ts_to...  $12,689   \n",
       "4  62,581 Miles | Ogden, UT | document.write(ts_t...  $16,900   \n",
       "\n",
       "                  title  \n",
       "0  2012 Toyota Camry SE  \n",
       "1  2005 Toyota Camry LE  \n",
       "2  2014 Toyota Camry SE  \n",
       "3  2012 Toyota Camry LE  \n",
       "4  2014 Toyota Camry SE  "
      ]
     },
     "execution_count": 99,
     "metadata": {},
     "output_type": "execute_result"
    }
   ],
   "source": [
    "from pandas import DataFrame\n",
    "import pandas as pd\n",
    "\n",
    "df = DataFrame(cars_list)\n",
    "df.head()"
   ]
  },
  {
   "cell_type": "markdown",
   "metadata": {},
   "source": [
    "Using string functions, we could clean a single price value like so..."
   ]
  },
  {
   "cell_type": "code",
   "execution_count": 100,
   "metadata": {
    "collapsed": false
   },
   "outputs": [
    {
     "name": "stdout",
     "output_type": "stream",
     "text": [
      "orignal: $21,280 | MSRP $24,324\n",
      "cleaned: 21280\n"
     ]
    }
   ],
   "source": [
    "sample_price = prices[4]\n",
    "\n",
    "print(\"orignal:\", sample_price)\n",
    "\n",
    "sample_price = sample_price.replace(\"MSRP\", \"\").strip()\n",
    "sample_price = sample_price.split()[0]\n",
    "sample_price = int(sample_price.replace(\"$\", \"\").replace(\",\", \"\"))\n",
    "\n",
    "print(\"cleaned:\", sample_price)"
   ]
  },
  {
   "cell_type": "markdown",
   "metadata": {},
   "source": [
    "We certainly could loop through the entire list cleaning each row. However, pandas lets us easily apply a lambda function to an entire column:"
   ]
  },
  {
   "cell_type": "code",
   "execution_count": 101,
   "metadata": {
    "collapsed": false
   },
   "outputs": [
    {
     "data": {
      "text/html": [
       "<div>\n",
       "<table border=\"1\" class=\"dataframe\">\n",
       "  <thead>\n",
       "    <tr style=\"text-align: right;\">\n",
       "      <th></th>\n",
       "      <th>location-and-miles</th>\n",
       "      <th>price</th>\n",
       "      <th>title</th>\n",
       "    </tr>\n",
       "  </thead>\n",
       "  <tbody>\n",
       "    <tr>\n",
       "      <th>0</th>\n",
       "      <td>31,885 Miles | Murray, UT | document.write(ts_...</td>\n",
       "      <td>14567</td>\n",
       "      <td>2012 Toyota Camry SE</td>\n",
       "    </tr>\n",
       "    <tr>\n",
       "      <th>1</th>\n",
       "      <td>279,594 Miles | Salt Lake City, UT | document....</td>\n",
       "      <td>4000</td>\n",
       "      <td>2005 Toyota Camry LE</td>\n",
       "    </tr>\n",
       "    <tr>\n",
       "      <th>2</th>\n",
       "      <td>42,998 Miles | West Valley City, UT | document...</td>\n",
       "      <td>16358</td>\n",
       "      <td>2014 Toyota Camry SE</td>\n",
       "    </tr>\n",
       "    <tr>\n",
       "      <th>3</th>\n",
       "      <td>78,560 Miles | Orem, UT | document.write(ts_to...</td>\n",
       "      <td>12689</td>\n",
       "      <td>2012 Toyota Camry LE</td>\n",
       "    </tr>\n",
       "    <tr>\n",
       "      <th>4</th>\n",
       "      <td>62,581 Miles | Ogden, UT | document.write(ts_t...</td>\n",
       "      <td>16900</td>\n",
       "      <td>2014 Toyota Camry SE</td>\n",
       "    </tr>\n",
       "  </tbody>\n",
       "</table>\n",
       "</div>"
      ],
      "text/plain": [
       "                                  location-and-miles  price  \\\n",
       "0  31,885 Miles | Murray, UT | document.write(ts_...  14567   \n",
       "1  279,594 Miles | Salt Lake City, UT | document....   4000   \n",
       "2  42,998 Miles | West Valley City, UT | document...  16358   \n",
       "3  78,560 Miles | Orem, UT | document.write(ts_to...  12689   \n",
       "4  62,581 Miles | Ogden, UT | document.write(ts_t...  16900   \n",
       "\n",
       "                  title  \n",
       "0  2012 Toyota Camry SE  \n",
       "1  2005 Toyota Camry LE  \n",
       "2  2014 Toyota Camry SE  \n",
       "3  2012 Toyota Camry LE  \n",
       "4  2014 Toyota Camry SE  "
      ]
     },
     "execution_count": 101,
     "metadata": {},
     "output_type": "execute_result"
    }
   ],
   "source": [
    "import re\n",
    "\n",
    "def clean_price(price):\n",
    "    new_price = price.replace(\"MSRP\", \"\").strip()\n",
    "    new_price = new_price.split()[0]\n",
    "    new_price = int(re.sub(\"[$,]\", \"\", new_price))\n",
    "    return new_price\n",
    "\n",
    "df[\"price\"] = df[\"price\"].apply(clean_price)\n",
    "\n",
    "df.head()"
   ]
  },
  {
   "cell_type": "markdown",
   "metadata": {},
   "source": [
    "Let's do the same with the other columns."
   ]
  },
  {
   "cell_type": "code",
   "execution_count": 102,
   "metadata": {
    "collapsed": false
   },
   "outputs": [
    {
     "data": {
      "text/html": [
       "<div>\n",
       "<table border=\"1\" class=\"dataframe\">\n",
       "  <thead>\n",
       "    <tr style=\"text-align: right;\">\n",
       "      <th></th>\n",
       "      <th>location-and-miles</th>\n",
       "      <th>price</th>\n",
       "      <th>title</th>\n",
       "      <th>city</th>\n",
       "      <th>state</th>\n",
       "      <th>miles</th>\n",
       "    </tr>\n",
       "  </thead>\n",
       "  <tbody>\n",
       "    <tr>\n",
       "      <th>0</th>\n",
       "      <td>31,885 Miles | Murray, UT | document.write(ts_...</td>\n",
       "      <td>14567</td>\n",
       "      <td>2012 Toyota Camry SE</td>\n",
       "      <td>Murray</td>\n",
       "      <td>UT</td>\n",
       "      <td>31885</td>\n",
       "    </tr>\n",
       "    <tr>\n",
       "      <th>1</th>\n",
       "      <td>279,594 Miles | Salt Lake City, UT | document....</td>\n",
       "      <td>4000</td>\n",
       "      <td>2005 Toyota Camry LE</td>\n",
       "      <td>Salt Lake City</td>\n",
       "      <td>UT</td>\n",
       "      <td>279594</td>\n",
       "    </tr>\n",
       "    <tr>\n",
       "      <th>2</th>\n",
       "      <td>42,998 Miles | West Valley City, UT | document...</td>\n",
       "      <td>16358</td>\n",
       "      <td>2014 Toyota Camry SE</td>\n",
       "      <td>West Valley City</td>\n",
       "      <td>UT</td>\n",
       "      <td>42998</td>\n",
       "    </tr>\n",
       "    <tr>\n",
       "      <th>3</th>\n",
       "      <td>78,560 Miles | Orem, UT | document.write(ts_to...</td>\n",
       "      <td>12689</td>\n",
       "      <td>2012 Toyota Camry LE</td>\n",
       "      <td>Orem</td>\n",
       "      <td>UT</td>\n",
       "      <td>78560</td>\n",
       "    </tr>\n",
       "    <tr>\n",
       "      <th>4</th>\n",
       "      <td>62,581 Miles | Ogden, UT | document.write(ts_t...</td>\n",
       "      <td>16900</td>\n",
       "      <td>2014 Toyota Camry SE</td>\n",
       "      <td>Ogden</td>\n",
       "      <td>UT</td>\n",
       "      <td>62581</td>\n",
       "    </tr>\n",
       "  </tbody>\n",
       "</table>\n",
       "</div>"
      ],
      "text/plain": [
       "                                  location-and-miles  price  \\\n",
       "0  31,885 Miles | Murray, UT | document.write(ts_...  14567   \n",
       "1  279,594 Miles | Salt Lake City, UT | document....   4000   \n",
       "2  42,998 Miles | West Valley City, UT | document...  16358   \n",
       "3  78,560 Miles | Orem, UT | document.write(ts_to...  12689   \n",
       "4  62,581 Miles | Ogden, UT | document.write(ts_t...  16900   \n",
       "\n",
       "                  title              city state   miles  \n",
       "0  2012 Toyota Camry SE            Murray    UT   31885  \n",
       "1  2005 Toyota Camry LE    Salt Lake City    UT  279594  \n",
       "2  2014 Toyota Camry SE  West Valley City    UT   42998  \n",
       "3  2012 Toyota Camry LE              Orem    UT   78560  \n",
       "4  2014 Toyota Camry SE             Ogden    UT   62581  "
      ]
     },
     "execution_count": 102,
     "metadata": {},
     "output_type": "execute_result"
    }
   ],
   "source": [
    "def split_city_state_and_miles(cell):\n",
    "    loc_and_mi = cell.split(\"|\")\n",
    "    mi = loc_and_mi[0].split()[0].replace(',', '').strip()\n",
    "    loc = loc_and_mi[1].strip()\n",
    "    city_and_state = loc.split(\",\")\n",
    "    city = city_and_state[0].strip()\n",
    "    state = city_and_state[1].strip()\n",
    "    \n",
    "    return [city, state, int(mi)]\n",
    "\n",
    "temp_df = pd.DataFrame([x for x in df[\"location-and-miles\"].apply(split_city_state_and_miles)],\n",
    "                       columns=[\"city\", \"state\", \"miles\"])\n",
    "\n",
    "df = pd.merge(df, temp_df, left_index=True, right_index=True)\n",
    "\n",
    "df.head()"
   ]
  },
  {
   "cell_type": "code",
   "execution_count": 104,
   "metadata": {
    "collapsed": false
   },
   "outputs": [
    {
     "data": {
      "text/html": [
       "<div>\n",
       "<table border=\"1\" class=\"dataframe\">\n",
       "  <thead>\n",
       "    <tr style=\"text-align: right;\">\n",
       "      <th></th>\n",
       "      <th>location-and-miles</th>\n",
       "      <th>price</th>\n",
       "      <th>title</th>\n",
       "      <th>city</th>\n",
       "      <th>state</th>\n",
       "      <th>miles</th>\n",
       "      <th>year</th>\n",
       "      <th>make</th>\n",
       "      <th>model</th>\n",
       "    </tr>\n",
       "  </thead>\n",
       "  <tbody>\n",
       "    <tr>\n",
       "      <th>0</th>\n",
       "      <td>31,885 Miles | Murray, UT | document.write(ts_...</td>\n",
       "      <td>14567</td>\n",
       "      <td>2012 Toyota Camry SE</td>\n",
       "      <td>Murray</td>\n",
       "      <td>UT</td>\n",
       "      <td>31885</td>\n",
       "      <td>2012</td>\n",
       "      <td>Toyota</td>\n",
       "      <td>Camry SE</td>\n",
       "    </tr>\n",
       "    <tr>\n",
       "      <th>1</th>\n",
       "      <td>279,594 Miles | Salt Lake City, UT | document....</td>\n",
       "      <td>4000</td>\n",
       "      <td>2005 Toyota Camry LE</td>\n",
       "      <td>Salt Lake City</td>\n",
       "      <td>UT</td>\n",
       "      <td>279594</td>\n",
       "      <td>2005</td>\n",
       "      <td>Toyota</td>\n",
       "      <td>Camry LE</td>\n",
       "    </tr>\n",
       "    <tr>\n",
       "      <th>2</th>\n",
       "      <td>42,998 Miles | West Valley City, UT | document...</td>\n",
       "      <td>16358</td>\n",
       "      <td>2014 Toyota Camry SE</td>\n",
       "      <td>West Valley City</td>\n",
       "      <td>UT</td>\n",
       "      <td>42998</td>\n",
       "      <td>2014</td>\n",
       "      <td>Toyota</td>\n",
       "      <td>Camry SE</td>\n",
       "    </tr>\n",
       "    <tr>\n",
       "      <th>3</th>\n",
       "      <td>78,560 Miles | Orem, UT | document.write(ts_to...</td>\n",
       "      <td>12689</td>\n",
       "      <td>2012 Toyota Camry LE</td>\n",
       "      <td>Orem</td>\n",
       "      <td>UT</td>\n",
       "      <td>78560</td>\n",
       "      <td>2012</td>\n",
       "      <td>Toyota</td>\n",
       "      <td>Camry LE</td>\n",
       "    </tr>\n",
       "    <tr>\n",
       "      <th>4</th>\n",
       "      <td>62,581 Miles | Ogden, UT | document.write(ts_t...</td>\n",
       "      <td>16900</td>\n",
       "      <td>2014 Toyota Camry SE</td>\n",
       "      <td>Ogden</td>\n",
       "      <td>UT</td>\n",
       "      <td>62581</td>\n",
       "      <td>2014</td>\n",
       "      <td>Toyota</td>\n",
       "      <td>Camry SE</td>\n",
       "    </tr>\n",
       "  </tbody>\n",
       "</table>\n",
       "</div>"
      ],
      "text/plain": [
       "                                  location-and-miles  price  \\\n",
       "0  31,885 Miles | Murray, UT | document.write(ts_...  14567   \n",
       "1  279,594 Miles | Salt Lake City, UT | document....   4000   \n",
       "2  42,998 Miles | West Valley City, UT | document...  16358   \n",
       "3  78,560 Miles | Orem, UT | document.write(ts_to...  12689   \n",
       "4  62,581 Miles | Ogden, UT | document.write(ts_t...  16900   \n",
       "\n",
       "                  title              city state   miles  year    make  \\\n",
       "0  2012 Toyota Camry SE            Murray    UT   31885  2012  Toyota   \n",
       "1  2005 Toyota Camry LE    Salt Lake City    UT  279594  2005  Toyota   \n",
       "2  2014 Toyota Camry SE  West Valley City    UT   42998  2014  Toyota   \n",
       "3  2012 Toyota Camry LE              Orem    UT   78560  2012  Toyota   \n",
       "4  2014 Toyota Camry SE             Ogden    UT   62581  2014  Toyota   \n",
       "\n",
       "      model  \n",
       "0  Camry SE  \n",
       "1  Camry LE  \n",
       "2  Camry SE  \n",
       "3  Camry LE  \n",
       "4  Camry SE  "
      ]
     },
     "execution_count": 104,
     "metadata": {},
     "output_type": "execute_result"
    }
   ],
   "source": [
    "def split_year_make_model(cell):\n",
    "    split_cell = cell.split()\n",
    "    year = split_cell[0]\n",
    "    make = split_cell[1]\n",
    "    model = \" \".join(split_cell[2:])\n",
    "    \n",
    "    return [int(year), make, model]\n",
    "\n",
    "temp_df = pd.DataFrame([x for x in df[\"title\"].apply(split_year_make_model)],\n",
    "                       columns=[\"year\", \"make\", \"model\"])\n",
    "\n",
    "df = pd.merge(df, temp_df, left_index=True, right_index=True)\n",
    "\n",
    "df.head()"
   ]
  },
  {
   "cell_type": "code",
   "execution_count": 105,
   "metadata": {
    "collapsed": false
   },
   "outputs": [
    {
     "data": {
      "text/html": [
       "<div>\n",
       "<table border=\"1\" class=\"dataframe\">\n",
       "  <thead>\n",
       "    <tr style=\"text-align: right;\">\n",
       "      <th></th>\n",
       "      <th>price</th>\n",
       "      <th>city</th>\n",
       "      <th>state</th>\n",
       "      <th>miles</th>\n",
       "      <th>year</th>\n",
       "      <th>make</th>\n",
       "      <th>model</th>\n",
       "    </tr>\n",
       "  </thead>\n",
       "  <tbody>\n",
       "    <tr>\n",
       "      <th>0</th>\n",
       "      <td>14567</td>\n",
       "      <td>Murray</td>\n",
       "      <td>UT</td>\n",
       "      <td>31885</td>\n",
       "      <td>2012</td>\n",
       "      <td>Toyota</td>\n",
       "      <td>Camry SE</td>\n",
       "    </tr>\n",
       "    <tr>\n",
       "      <th>1</th>\n",
       "      <td>4000</td>\n",
       "      <td>Salt Lake City</td>\n",
       "      <td>UT</td>\n",
       "      <td>279594</td>\n",
       "      <td>2005</td>\n",
       "      <td>Toyota</td>\n",
       "      <td>Camry LE</td>\n",
       "    </tr>\n",
       "    <tr>\n",
       "      <th>2</th>\n",
       "      <td>16358</td>\n",
       "      <td>West Valley City</td>\n",
       "      <td>UT</td>\n",
       "      <td>42998</td>\n",
       "      <td>2014</td>\n",
       "      <td>Toyota</td>\n",
       "      <td>Camry SE</td>\n",
       "    </tr>\n",
       "    <tr>\n",
       "      <th>3</th>\n",
       "      <td>12689</td>\n",
       "      <td>Orem</td>\n",
       "      <td>UT</td>\n",
       "      <td>78560</td>\n",
       "      <td>2012</td>\n",
       "      <td>Toyota</td>\n",
       "      <td>Camry LE</td>\n",
       "    </tr>\n",
       "    <tr>\n",
       "      <th>4</th>\n",
       "      <td>16900</td>\n",
       "      <td>Ogden</td>\n",
       "      <td>UT</td>\n",
       "      <td>62581</td>\n",
       "      <td>2014</td>\n",
       "      <td>Toyota</td>\n",
       "      <td>Camry SE</td>\n",
       "    </tr>\n",
       "  </tbody>\n",
       "</table>\n",
       "</div>"
      ],
      "text/plain": [
       "   price              city state   miles  year    make     model\n",
       "0  14567            Murray    UT   31885  2012  Toyota  Camry SE\n",
       "1   4000    Salt Lake City    UT  279594  2005  Toyota  Camry LE\n",
       "2  16358  West Valley City    UT   42998  2014  Toyota  Camry SE\n",
       "3  12689              Orem    UT   78560  2012  Toyota  Camry LE\n",
       "4  16900             Ogden    UT   62581  2014  Toyota  Camry SE"
      ]
     },
     "execution_count": 105,
     "metadata": {},
     "output_type": "execute_result"
    }
   ],
   "source": [
    "df.drop(['location-and-miles', 'title'], axis=1, inplace=True)\n",
    "\n",
    "df.head()"
   ]
  },
  {
   "cell_type": "markdown",
   "metadata": {},
   "source": [
    "Now we have the data in more or less atomic units (except perhaps model), and we're ready to play with it. First, let's save our data in CSV format."
   ]
  },
  {
   "cell_type": "code",
   "execution_count": 139,
   "metadata": {
    "collapsed": true
   },
   "outputs": [],
   "source": [
    "df.to_csv(\"cars.csv\")"
   ]
  },
  {
   "cell_type": "markdown",
   "metadata": {},
   "source": [
    "<h1>Preliminary Statistics</h1>\n",
    "\n",
    "Now, let's do some summary statistics and graph some frequency counts to see the shape of the string columns."
   ]
  },
  {
   "cell_type": "code",
   "execution_count": 140,
   "metadata": {
    "collapsed": false
   },
   "outputs": [
    {
     "data": {
      "text/html": [
       "<div>\n",
       "<table border=\"1\" class=\"dataframe\">\n",
       "  <thead>\n",
       "    <tr style=\"text-align: right;\">\n",
       "      <th></th>\n",
       "      <th>price</th>\n",
       "      <th>year</th>\n",
       "    </tr>\n",
       "  </thead>\n",
       "  <tbody>\n",
       "    <tr>\n",
       "      <th>count</th>\n",
       "      <td>18.000000</td>\n",
       "      <td>18.000000</td>\n",
       "    </tr>\n",
       "    <tr>\n",
       "      <th>mean</th>\n",
       "      <td>12785.277778</td>\n",
       "      <td>2009.888889</td>\n",
       "    </tr>\n",
       "    <tr>\n",
       "      <th>std</th>\n",
       "      <td>6840.168521</td>\n",
       "      <td>5.051370</td>\n",
       "    </tr>\n",
       "    <tr>\n",
       "      <th>min</th>\n",
       "      <td>700.000000</td>\n",
       "      <td>1998.000000</td>\n",
       "    </tr>\n",
       "    <tr>\n",
       "      <th>25%</th>\n",
       "      <td>8496.250000</td>\n",
       "      <td>2006.250000</td>\n",
       "    </tr>\n",
       "    <tr>\n",
       "      <th>50%</th>\n",
       "      <td>13628.000000</td>\n",
       "      <td>2011.500000</td>\n",
       "    </tr>\n",
       "    <tr>\n",
       "      <th>75%</th>\n",
       "      <td>16764.500000</td>\n",
       "      <td>2014.000000</td>\n",
       "    </tr>\n",
       "    <tr>\n",
       "      <th>max</th>\n",
       "      <td>25377.000000</td>\n",
       "      <td>2016.000000</td>\n",
       "    </tr>\n",
       "  </tbody>\n",
       "</table>\n",
       "</div>"
      ],
      "text/plain": [
       "              price         year\n",
       "count     18.000000    18.000000\n",
       "mean   12785.277778  2009.888889\n",
       "std     6840.168521     5.051370\n",
       "min      700.000000  1998.000000\n",
       "25%     8496.250000  2006.250000\n",
       "50%    13628.000000  2011.500000\n",
       "75%    16764.500000  2014.000000\n",
       "max    25377.000000  2016.000000"
      ]
     },
     "execution_count": 140,
     "metadata": {},
     "output_type": "execute_result"
    }
   ],
   "source": [
    "df.describe()"
   ]
  },
  {
   "cell_type": "code",
   "execution_count": 109,
   "metadata": {
    "collapsed": false
   },
   "outputs": [
    {
     "data": {
      "text/plain": [
       "<matplotlib.axes._subplots.AxesSubplot at 0x1a8de2b2eb8>"
      ]
     },
     "execution_count": 109,
     "metadata": {},
     "output_type": "execute_result"
    },
    {
     "data": {
      "image/png": "[encoded data removed]",
      "text/plain": [
       "<matplotlib.figure.Figure at 0x1a8dbbc77f0>"
      ]
     },
     "metadata": {},
     "output_type": "display_data"
    }
   ],
   "source": [
    "%matplotlib inline\n",
    "\n",
    "df[\"city\"].value_counts().plot(kind='barh', rot=0)"
   ]
  },
  {
   "cell_type": "code",
   "execution_count": 110,
   "metadata": {
    "collapsed": false
   },
   "outputs": [
    {
     "data": {
      "text/plain": [
       "<matplotlib.axes._subplots.AxesSubplot at 0x1a8db799198>"
      ]
     },
     "execution_count": 110,
     "metadata": {},
     "output_type": "execute_result"
    },
    {
     "data": {
      "image/png": "[encoded data removed]",
      "text/plain": [
       "<matplotlib.figure.Figure at 0x1a8deaa4ba8>"
      ]
     },
     "metadata": {},
     "output_type": "display_data"
    }
   ],
   "source": [
    "df[\"year\"].value_counts().plot(kind='barh', rot=0)"
   ]
  },
  {
   "cell_type": "code",
   "execution_count": 111,
   "metadata": {
    "collapsed": false
   },
   "outputs": [
    {
     "data": {
      "text/plain": [
       "<matplotlib.axes._subplots.AxesSubplot at 0x1a8db2ee080>"
      ]
     },
     "execution_count": 111,
     "metadata": {},
     "output_type": "execute_result"
    },
    {
     "data": {
      "image/png": "[encoded data removed]",
      "text/plain": [
       "<matplotlib.figure.Figure at 0x1a8db2e05c0>"
      ]
     },
     "metadata": {},
     "output_type": "display_data"
    }
   ],
   "source": [
    "df[\"model\"].value_counts().plot(kind='barh', rot=0)"
   ]
  },
  {
   "cell_type": "markdown",
   "metadata": {},
   "source": [
    "And now, let's import <a href=\"http://scikit-learn.org/stable/\">Scikit-Learn</a>, the premiere machine learning library in Python, and find a linear regression that uses 'miles' and 'year' to predict 'price' of the car."
   ]
  },
  {
   "cell_type": "code",
   "execution_count": 138,
   "metadata": {
    "collapsed": false
   },
   "outputs": [
    {
     "name": "stdout",
     "output_type": "stream",
     "text": [
      "formula: y = -0.0171143951793*x1 + 1119.25627644*x2\n",
      "prediction: [ 14067.93290016  11064.16728123  -3817.92585647   5574.27803995\n",
      "   8805.42551324   9216.17099754  15411.43909664  20350.55287225]\n",
      "actual: [15400  8495   700  5250  9988 12500 14995 25377]\n",
      "score: 0.828555279984\n"
     ]
    }
   ],
   "source": [
    "from sklearn import linear_model\n",
    "import numpy as np\n",
    "from matplotlib import pyplot as plt\n",
    "\n",
    "X = np.array(df[[\"miles\", \"year\"]])\n",
    "y = np.array(df[\"price\"])\n",
    "\n",
    "X_train = X[:10]\n",
    "y_train = y[:10]\n",
    "\n",
    "X_test = X[10:]\n",
    "y_test = y[10:]\n",
    "\n",
    "regressor = linear_model.LinearRegression()\n",
    "regressor.fit(X_train, y_train)\n",
    "\n",
    "prediction = regressor.predict(X_test)\n",
    "score = regressor.score(X_test, y_test)\n",
    "\n",
    "print(\"formula: y =\", str(regressor.coef_[0]) + \"*x1 + \" + str(regressor.coef_[1]) + \"*x2\")\n",
    "print(\"prediction:\", prediction)\n",
    "print(\"actual:\", y_test)\n",
    "print(\"score:\", score)"
   ]
  },
  {
   "cell_type": "markdown",
   "metadata": {},
   "source": [
    "As you can see, our predictions are (mostly) decent, though we do predict a negative value for our outlier car with over 200,000 miles. Our R^2 is 0.83."
   ]
  }
 ],
 "metadata": {
  "kernelspec": {
   "display_name": "Python 3",
   "language": "python",
   "name": "python3"
  },
  "language_info": {
   "codemirror_mode": {
    "name": "ipython",
    "version": 3
   },
   "file_extension": ".py",
   "mimetype": "text/x-python",
   "name": "python",
   "nbconvert_exporter": "python",
   "pygments_lexer": "ipython3",
   "version": "3.5.1"
  }
 },
 "nbformat": 4,
 "nbformat_minor": 0
}
